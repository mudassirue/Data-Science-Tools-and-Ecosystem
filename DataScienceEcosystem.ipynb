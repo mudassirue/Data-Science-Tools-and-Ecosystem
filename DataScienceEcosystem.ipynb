{
 "cells": [
  {
   "cell_type": "markdown",
   "id": "bb7a3fab-9e72-4eb8-b7a5-368c8e04b1cf",
   "metadata": {},
   "source": [
    "# Data Science Tools and Ecosystem"
   ]
  },
  {
   "cell_type": "markdown",
   "id": "bac94c53-8ee1-4098-97f0-da6efcca5a9a",
   "metadata": {},
   "source": [
    "#### In this notebook, Data Science Tools and Ecosystem are summarized."
   ]
  },
  {
   "cell_type": "markdown",
   "id": "3715eaa5-af74-49b1-a4ff-79c3f95944f4",
   "metadata": {},
   "source": [
    "### **Some of the popular languages that Data Scientists use are:**"
   ]
  },
  {
   "cell_type": "markdown",
   "id": "f1f94b41-bb37-4999-ab51-1e5c276d45d9",
   "metadata": {},
   "source": [
    "#### 1. Python\n",
    "#### 2. R\n",
    "#### 3. SQL\n",
    "#### 4. Java\n",
    "#### 5. C\n",
    "#### 6. C++\n",
    "#### 7. Javascript"
   ]
  },
  {
   "cell_type": "markdown",
   "id": "702ae504-b541-448f-8235-28f27c6fd86f",
   "metadata": {},
   "source": [
    "### **Some of the commonly used libraries used by Data Scientists include:**"
   ]
  },
  {
   "cell_type": "markdown",
   "id": "49d77de4-0348-4b95-b59d-845b97cfd652",
   "metadata": {},
   "source": [
    "#### 1. Pandas\n",
    "#### 2. NumPy\n",
    "#### 3. Matplotlib"
   ]
  },
  {
   "cell_type": "markdown",
   "id": "82e372f8-b49c-4805-99a9-a9f77e981836",
   "metadata": {},
   "source": [
    "| Data Science Tools |\n",
    "|:--------:|\n",
    "|  Jupyter Notebooks   |\n",
    "|  RStudio   |\n",
    "|  Spyder   |"
   ]
  },
  {
   "cell_type": "markdown",
   "id": "00e9ce81-049b-4486-a5f5-15af7a4289e0",
   "metadata": {},
   "source": [
    "#### **Below are a few examples of evaluating arithmetic expressions in Python.**"
   ]
  },
  {
   "cell_type": "code",
   "execution_count": 1,
   "id": "0f43bdbd-4eb0-4d11-9ed7-d3652000284a",
   "metadata": {},
   "outputs": [
    {
     "data": {
      "text/plain": [
       "17"
      ]
     },
     "execution_count": 1,
     "metadata": {},
     "output_type": "execute_result"
    }
   ],
   "source": [
    "# This a simple arithmetic expression to mutiply then add integers\n",
    "(3*4)+5"
   ]
  },
  {
   "cell_type": "code",
   "execution_count": 2,
   "id": "1b7e2c54-fe2b-4330-a390-27ea3df71e6f",
   "metadata": {},
   "outputs": [
    {
     "data": {
      "text/plain": [
       "3.3333333333333335"
      ]
     },
     "execution_count": 2,
     "metadata": {},
     "output_type": "execute_result"
    }
   ],
   "source": [
    "#This will convert 200 minutes to hours by diving by 60\n",
    "200/60"
   ]
  },
  {
   "cell_type": "markdown",
   "id": "7017361c-88a6-4157-968b-249b05737acf",
   "metadata": {},
   "source": [
    "## **Objectives:**\n",
    "#### - List popular languages for Data Science\n",
    "#### - Highlight commonly used libraries\n",
    "#### - Introduce key Data Science tools"
   ]
  },
  {
   "cell_type": "markdown",
   "id": "727528bf-009c-469d-a1f2-622dabab5eda",
   "metadata": {},
   "source": [
    "### **Author**\n",
    "#### Mudassir Ahmad Khan"
   ]
  },
  {
   "cell_type": "code",
   "execution_count": null,
   "id": "c761968d-47eb-4a49-a315-18b52ed94cac",
   "metadata": {},
   "outputs": [],
   "source": []
  }
 ],
 "metadata": {
  "kernelspec": {
   "display_name": "Python 3 (ipykernel)",
   "language": "python",
   "name": "python3"
  },
  "language_info": {
   "codemirror_mode": {
    "name": "ipython",
    "version": 3
   },
   "file_extension": ".py",
   "mimetype": "text/x-python",
   "name": "python",
   "nbconvert_exporter": "python",
   "pygments_lexer": "ipython3",
   "version": "3.12.1"
  }
 },
 "nbformat": 4,
 "nbformat_minor": 5
}
